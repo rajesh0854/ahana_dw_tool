{
 "cells": [
  {
   "cell_type": "code",
   "execution_count": 5,
   "metadata": {},
   "outputs": [],
   "source": [
    "\n",
    "from sqlalchemy import create_engine, text\n",
    "import oracledb\n",
    "\n",
    "import os \n",
    "from dotenv import load_dotenv\n",
    "load_dotenv()\n",
    "\n",
    "db_user = os.getenv('DB_USER')\n",
    "db_password = os.getenv('DB_PASSWORD')\n",
    "db_host = os.getenv('DB_HOST')\n",
    "db_port = os.getenv('DB_PORT')\n",
    "db_sid = os.getenv('DB_SID') \n",
    "\n",
    "dsn = oracledb.makedsn(db_host, db_port, sid=db_sid)\n",
    "connection_string = f\"oracle+oracledb://{db_user}:{db_password}@{dsn}\"\n",
    "\n",
    "def get_db_connection():\n",
    "    try:\n",
    "        engine = create_engine(connection_string)\n",
    "        return engine.connect()\n",
    "    except Exception as e:\n",
    "        print(f\"Database connection error: {str(e)}\")\n",
    "        raise"
   ]
  },
  {
   "cell_type": "code",
   "execution_count": 6,
   "metadata": {},
   "outputs": [],
   "source": [
    "def get_job_list(conn):\n",
    "    try:\n",
    "        query = text(\"SELECT JOBID, MAPID, MAPREF, FRQCD, TRGSCHM, TRGTBTYP, TRGTBNM, SRCSYSTM, STFLG, RECCRDT, RECUPDT, CURFLG, BLKPRCROWS FROM DWJOB\")\n",
    "        details_result = conn.execute(query).mappings().fetchall()\n",
    "        return details_result\n",
    "    except Exception as e:\n",
    "        print(f\"Error fetching job list: {str(e)}\")\n",
    "        raise\n"
   ]
  },
  {
   "cell_type": "code",
   "execution_count": 4,
   "metadata": {},
   "outputs": [
    {
     "data": {
      "text/plain": [
       "[{'jobid': 1, 'mapid': 1, 'mapref': 'DIM_ACCOUNT', 'frqcd': 'DL', 'trgschm': 'TRG', 'trgtbtyp': 'DIM', 'trgtbnm': 'DIM_ACCOUNT', 'srcsystm': 'CBS', 'stflg': 'A', 'reccrdt': datetime.datetime(2025, 3, 11, 3, 59, 17), 'recupdt': datetime.datetime(2025, 3, 11, 3, 59, 17), 'curflg': 'Y', 'blkprcrows': 50000}]"
      ]
     },
     "execution_count": 4,
     "metadata": {},
     "output_type": "execute_result"
    }
   ],
   "source": [
    "get_job_list(get_db_connection())"
   ]
  },
  {
   "cell_type": "code",
   "execution_count": 5,
   "metadata": {},
   "outputs": [],
   "source": [
    "def get_parameter_mapping(conn):\n",
    "    try:\n",
    "        query=text(\"\"\"SELECT PRTYP, PRCD, PRDESC, PRVAL, PRRECCRDT, PRRECUPDT\n",
    "        FROM DWPARAMS\"\"\")        \n",
    "        details_result = conn.execute(query).mappings().fetchall()\n",
    "        return details_result\n",
    "    except Exception as e:\n",
    "        print(f\"Error fetching job list: {str(e)}\")\n",
    "        raise\n"
   ]
  },
  {
   "cell_type": "code",
   "execution_count": 15,
   "metadata": {},
   "outputs": [],
   "source": [
    "def get_parameter_mapping_datatype(conn):\n",
    "    try:\n",
    "        query=text(\"\"\"SELECT  PRCD, PRDESC FROM DWPARAMS WHERE PRTYP = 'Datatype'\"\"\")        \n",
    "        details_result = conn.execute(query).mappings().fetchall()\n",
    "        return details_result\n",
    "    except Exception as e:\n",
    "        print(f\"Error fetching job list: {str(e)}\")\n",
    "        raise\n"
   ]
  },
  {
   "cell_type": "code",
   "execution_count": 16,
   "metadata": {},
   "outputs": [
    {
     "data": {
      "text/plain": [
       "[{'prcd': 'test1', 'prdesc': 'Identifies alpha-numeric value of 1 Character.'},\n",
       " {'prcd': 'String1', 'prdesc': 'Identifies alpha-numeric value of 1 Character.'},\n",
       " {'prcd': 'String3', 'prdesc': 'Identifies alpha-numeric value of 3 Characters.'},\n",
       " {'prcd': 'String5', 'prdesc': 'Identifies alpha-numeric value of 5 Characters.'},\n",
       " {'prcd': 'String10', 'prdesc': 'Identifies alpha-numeric value of 10 Characters.'},\n",
       " {'prcd': 'String20', 'prdesc': 'Identifies alpha-numeric value of 20 Characters.'},\n",
       " {'prcd': 'String30', 'prdesc': 'Identifies alpha-numeric value of 30 Characters.'},\n",
       " {'prcd': 'String50', 'prdesc': 'Identifies alpha-numeric value of 50 Characters.'},\n",
       " {'prcd': 'String100', 'prdesc': 'Identifies alpha-numeric value of 100 Characters.'},\n",
       " {'prcd': 'String250', 'prdesc': 'Identifies alpha-numeric value of 250 Characters.'},\n",
       " {'prcd': 'String4000', 'prdesc': 'Identifies alpha-numeric value of 4000 Characters.'},\n",
       " {'prcd': 'Numeric1', 'prdesc': 'Identifies numeric value of 1 digit.'},\n",
       " {'prcd': 'Numeric3', 'prdesc': 'Identifies numeric value of 3 digits.'},\n",
       " {'prcd': 'Numeric5', 'prdesc': 'Identifies numeric value of 5 digits.'},\n",
       " {'prcd': 'Numeric10', 'prdesc': 'Identifies numeric value of 10 digits.'},\n",
       " {'prcd': 'Numeric20', 'prdesc': 'Identifies numeric value of 20 digits.'},\n",
       " {'prcd': 'Numeric30', 'prdesc': 'Identifies numeric value of 30 digits.'},\n",
       " {'prcd': 'Money10', 'prdesc': 'Identfies currency value upto 10 digits'},\n",
       " {'prcd': 'Money12', 'prdesc': 'Identfies currency value upto 12 digits'},\n",
       " {'prcd': 'Money18', 'prdesc': 'Identfies currency value upto 18 digits'},\n",
       " {'prcd': 'Money28', 'prdesc': 'Identfies currency value upto 28 digits'},\n",
       " {'prcd': 'Date', 'prdesc': 'Identifies date values.'},\n",
       " {'prcd': 'Timestamp', 'prdesc': 'Identifies timestamp values.'}]"
      ]
     },
     "execution_count": 16,
     "metadata": {},
     "output_type": "execute_result"
    }
   ],
   "source": [
    "get_parameter_mapping_datatype(get_db_connection())\n",
    "\n"
   ]
  },
  {
   "cell_type": "code",
   "execution_count": 3,
   "metadata": {},
   "outputs": [],
   "source": [
    "def get_parameter_mapping(conn):\n",
    "    try:\n",
    "        cursor = conn.cursor()\n",
    "        type_value=\"Datatype\"\n",
    "        query = \"SELECT PRTYP, PRCD, PRDESC, PRVAL, PRRECCRDT, PRRECUPDT FROM DWPARAMS WHERE PRTYP = :type\"\n",
    "        cursor.execute(query, {\"type\": type_value})\n",
    "        \n",
    "        # Get column names from cursor description\n",
    "        columns = [col[0] for col in cursor.description]\n",
    "        \n",
    "        # Fetch all rows and convert to dictionaries\n",
    "        result = []\n",
    "        for row in cursor.fetchall():\n",
    "            result.append(dict(zip(columns, row)))\n",
    "            \n",
    "        cursor.close()\n",
    "        return result\n",
    "    except Exception as e:\n",
    "        print(f\"Error fetching parameter mapping: {str(e)}\")\n",
    "        raise"
   ]
  },
  {
   "cell_type": "code",
   "execution_count": 4,
   "metadata": {},
   "outputs": [
    {
     "ename": "NameError",
     "evalue": "name 'get_db_connection' is not defined",
     "output_type": "error",
     "traceback": [
      "\u001b[31m---------------------------------------------------------------------------\u001b[39m",
      "\u001b[31mNameError\u001b[39m                                 Traceback (most recent call last)",
      "\u001b[36mCell\u001b[39m\u001b[36m \u001b[39m\u001b[32mIn[4]\u001b[39m\u001b[32m, line 1\u001b[39m\n\u001b[32m----> \u001b[39m\u001b[32m1\u001b[39m get_parameter_mapping(\u001b[43mget_db_connection\u001b[49m())\n",
      "\u001b[31mNameError\u001b[39m: name 'get_db_connection' is not defined"
     ]
    }
   ],
   "source": [
    "get_parameter_mapping(get_db_connection())\n"
   ]
  },
  {
   "cell_type": "code",
   "execution_count": 3,
   "metadata": {},
   "outputs": [],
   "source": [
    "# def add_parameter_mapping(conn, type, code, desc, value):\n",
    "#     try:\n",
    "#         query = text(\"\"\"\n",
    "#             INSERT INTO DWPARAMS (PRTYP, PRCD, PRDESC, PRVAL, PRRECCRDT, PRRECUPDT)\n",
    "#             VALUES (:type, :code, :desc, :value, sysdate, sysdate)\n",
    "#         \"\"\")\n",
    "#         conn.execute(query, {\"type\": type, \"code\": code, \"desc\": desc, \"value\": value})\n",
    "#         conn.commit()\n",
    "#         return \"Parameter mapping added successfully.\"\n",
    "#     except Exception as e:\n",
    "#         print(f\"Error adding parameter mapping: {str(e)}\")\n",
    "#         raise\n",
    "\n",
    "import oracledb\n",
    "def create_oracle_connection():\n",
    "    try:\n",
    "        connection = oracledb.connect(\n",
    "            user=\"map\", \n",
    "            password=\"mapper\", \n",
    "            dsn=\"172.16.20.69:1521/demodb\"\n",
    "        )\n",
    "        print(\"Oracle connection established successfully\")\n",
    "        return connection\n",
    "    except Exception as e:\n",
    "        print(f\"Error establishing Oracle connection: {str(e)}\")\n",
    "        raise\n",
    "\n",
    "\n",
    "\n",
    "def add_parameter_mapping(conn, type, code, desc, value):\n",
    "    try:\n",
    "        cursor = conn.cursor()\n",
    "        query = \"\"\"\n",
    "            INSERT INTO DWPARAMS (PRTYP, PRCD, PRDESC, PRVAL, PRRECCRDT, PRRECUPDT)\n",
    "            VALUES (:1, :2, :3, :4, sysdate, sysdate)\n",
    "        \"\"\"\n",
    "        cursor.execute(query, [type, code, desc, value])\n",
    "        conn.commit()\n",
    "        cursor.close()\n",
    "        return \"Parameter mapping added successfully.\"\n",
    "    except Exception as e:\n",
    "        print(f\"Error adding parameter mapping: {str(e)}\")\n",
    "        raise"
   ]
  },
  {
   "cell_type": "code",
   "execution_count": 4,
   "metadata": {},
   "outputs": [
    {
     "name": "stdout",
     "output_type": "stream",
     "text": [
      "Oracle connection established successfully\n"
     ]
    },
    {
     "data": {
      "text/plain": [
       "'Parameter mapping added successfully.'"
      ]
     },
     "execution_count": 4,
     "metadata": {},
     "output_type": "execute_result"
    }
   ],
   "source": [
    "add_parameter_mapping(create_oracle_connection(),\"test\",\"varchar\",\"tesing the funtion \",\"varchar2(20)\")"
   ]
  },
  {
   "cell_type": "code",
   "execution_count": 9,
   "metadata": {},
   "outputs": [
    {
     "data": {
      "text/plain": [
       "'Parameter mapping added successfully.'"
      ]
     },
     "execution_count": 9,
     "metadata": {},
     "output_type": "execute_result"
    }
   ],
   "source": [
    "add_parameter_mapping(get_db_connection(),\"Datatype1\",\"test11\",\"Identifies alpha-numeric value of 1 Character.\",\"Varchar2(129)\")"
   ]
  },
  {
   "cell_type": "code",
   "execution_count": 16,
   "metadata": {},
   "outputs": [],
   "source": [
    "def get_error_massage(conn, ref):\n",
    "    try:\n",
    "        query = text(\"\"\"\n",
    "            SELECT errmsg FROM DWMAPERR WHERE DWMAPERR.MAPDTLID = :map_detail_id ORDER  BY DWMAPERR.MAPERRID DESC FETCH FIRST 1 ROWS ONLY \n",
    "        \"\"\")\n",
    "        result=conn.execute(query, {\"map_detail_id\": ref}).mappings().fetchall()\n",
    "        \n",
    "        if not result :\n",
    "            return \"Logic is Verified\"\n",
    "        \n",
    "        return result[0]['errmsg']\n",
    "    except Exception as e:\n",
    "        print(f\"Error adding parameter mapping: {str(e)}\")\n",
    "        raise"
   ]
  },
  {
   "cell_type": "code",
   "execution_count": 17,
   "metadata": {},
   "outputs": [
    {
     "data": {
      "text/plain": [
       "'ORA-00907: missing right parenthesis'"
      ]
     },
     "execution_count": 17,
     "metadata": {},
     "output_type": "execute_result"
    }
   ],
   "source": [
    "get_error_massage(get_db_connection(),48)"
   ]
  },
  {
   "cell_type": "code",
   "execution_count": 21,
   "metadata": {},
   "outputs": [],
   "source": [
    "def get_error_messages(conn, map_detail_ids):\n",
    "    \"\"\"\n",
    "    map_detail_ids: list of references from detail mapping table\n",
    "    Returns: dictionary mapping each id to its error message\n",
    "    \"\"\"\n",
    "    try:\n",
    "        result_dict = {}\n",
    "        cursor = conn.cursor()\n",
    "        query = \"\"\"\n",
    "            SELECT errmsg FROM DWMAPERR \n",
    "            WHERE DWMAPERR.MAPDTLID = :1 \n",
    "            ORDER BY DWMAPERR.MAPERRID DESC \n",
    "            FETCH FIRST 1 ROWS ONLY\n",
    "        \"\"\"\n",
    "        \n",
    "        for map_detail_id in map_detail_ids:\n",
    "            cursor.execute(query, [map_detail_id])\n",
    "            \n",
    "            # Fetch one row\n",
    "            row = cursor.fetchone()\n",
    "            \n",
    "            if not row:\n",
    "                result_dict[map_detail_id] = \"Logic is Verified\"\n",
    "            else:\n",
    "                result_dict[map_detail_id] = row[0]  # Return the first column value\n",
    "        \n",
    "        cursor.close()\n",
    "        return result_dict\n",
    "        \n",
    "    except Exception as e:\n",
    "        print(f\"Error getting error messages: {str(e)}\")\n",
    "        raise"
   ]
  },
  {
   "cell_type": "code",
   "execution_count": 24,
   "metadata": {},
   "outputs": [],
   "source": [
    "from dotenv import load_dotenv\n",
    "load_dotenv()\n",
    "\n",
    "db_user = os.getenv('DB_USER')\n",
    "db_password = os.getenv('DB_PASSWORD')\n",
    "db_host = os.getenv('DB_HOST')\n",
    "db_port = os.getenv('DB_PORT')\n",
    "db_sid = os.getenv('DB_SID')\n",
    "# print(db_host,db_user,db_password,db_sid,db_port)\n",
    "\n",
    "\n",
    "dsn = oracledb.makedsn(db_host, db_port, sid=db_sid)\n",
    "connection_string = f\"oracle+oracledb://{db_user}:{db_password}@{dsn}\"\n",
    "\n",
    "# Establish connection outside the function (do this once)\n",
    "def create_oracle_connection():\n",
    "    try:\n",
    "        connection = oracledb.connect(\n",
    "            user=\"map\", \n",
    "            password=\"mapper\", \n",
    "            dsn=\"172.16.20.69:1521/demodb\"\n",
    "        )\n",
    "        print(\"Oracle connection established successfully\")\n",
    "        return connection\n",
    "    except Exception as e:\n",
    "        print(f\"Error establishing Oracle connection: {str(e)}\")\n",
    "        raise\n"
   ]
  },
  {
   "cell_type": "code",
   "execution_count": 25,
   "metadata": {},
   "outputs": [
    {
     "name": "stdout",
     "output_type": "stream",
     "text": [
      "Oracle connection established successfully\n"
     ]
    },
    {
     "data": {
      "text/plain": [
       "{48: 'ORA-00907: missing right parenthesis',\n",
       " 106: 'ORA-00904: \"COD_ACCT_N1\": invalid identifier'}"
      ]
     },
     "execution_count": 25,
     "metadata": {},
     "output_type": "execute_result"
    }
   ],
   "source": [
    "get_error_messages(create_oracle_connection(),[48,106])"
   ]
  },
  {
   "cell_type": "code",
   "execution_count": null,
   "metadata": {},
   "outputs": [],
   "source": []
  },
  {
   "cell_type": "code",
   "execution_count": null,
   "metadata": {},
   "outputs": [],
   "source": []
  }
 ],
 "metadata": {
  "kernelspec": {
   "display_name": "dw",
   "language": "python",
   "name": "python3"
  },
  "language_info": {
   "codemirror_mode": {
    "name": "ipython",
    "version": 3
   },
   "file_extension": ".py",
   "mimetype": "text/x-python",
   "name": "python",
   "nbconvert_exporter": "python",
   "pygments_lexer": "ipython3",
   "version": "3.13.2"
  }
 },
 "nbformat": 4,
 "nbformat_minor": 2
}
